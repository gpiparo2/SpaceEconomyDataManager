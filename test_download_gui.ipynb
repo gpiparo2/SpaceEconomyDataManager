{
 "cells": [
  {
   "cell_type": "markdown",
   "metadata": {},
   "source": [
    "# Test Download GUI\n",
    "\n",
    "This notebook is designed to test the interactive GUI components for dataset building. It includes the dashboards for both burned area and vineyard datasets. Use the sections below to interact with the dashboards and configure all available options.\n",
    "## Instructions\n",
    "\n",
    "1. **Sentinel Hub Authentication:** Use the authentication section to enter your Sentinel Hub credentials and profile name.\n",
    "2. **Load Last Session:** If you have previously saved session parameters, click the 'Load Last Session' button to pre-fill the fields.\n",
    "3. **Dataset Parameters:** Fill in the required fields for dataset configuration (such as activation info paths, folder paths, sensor selection, and additional options).\n",
    "4. **Build Dataset:** Click the 'Build Dataset' button to trigger the dataset building process.\n",
    "5. **Visualize TFRecord:** Once a TFRecord is generated, select it from the dropdown and click 'Visualize TFRecord' to inspect its contents.\n",
    "\n",
    "These dashboards allow you to interactively configure and execute the dataset creation workflows."
   ]
  },
  {
   "cell_type": "code",
   "execution_count": null,
   "id": "8b92e52b",
   "metadata": {},
   "outputs": [],
   "source": [
    "# Import the necessary functions from the common GUI module and the burned area dashboard\n",
    "from SatelliteDataManager.gui.common_gui import inject_css, build_sensor_parameters_container, save_last_session, load_last_session\n",
    "from SatelliteDataManager.analyses.SEDM_Wildfire.burned_area_dashboard import build_burned_area_dashboard\n",
    "import ipywidgets as widgets"
   ]
  },
  {
   "cell_type": "code",
   "execution_count": null,
   "metadata": {},
   "outputs": [],
   "source": [
    "# Inject CSS styling (this is optional if the dashboard does it internally)\n",
    "inject_css()\n",
    "\n",
    "# Build and display the Burned Area Dashboard\n",
    "burned_area_dashboard = build_burned_area_dashboard()\n",
    "#display(burned_area_dashboard)"
   ]
  },
  {
   "cell_type": "code",
   "execution_count": null,
   "id": "74179e5d",
   "metadata": {},
   "outputs": [],
   "source": [
    "# Import and display the Vineyard Dashboard\n",
    "from SatelliteDataManager.analyses.SEDM_Vineyard.vineyard_dashboard import build_vineyard_dashboard\n",
    "from SatelliteDataManager.analyses.SEDM_Vineyard.vineyard_dashboard import build_vineyard_dashboard\n",
    "\n",
    "# Build and display the Vineyard Dashboard\n",
    "vineyard_dashboard = build_vineyard_dashboard()\n",
    "#display(vineyard_dashboard)"
   ]
  },
  {
   "cell_type": "code",
   "execution_count": null,
   "id": "b9d70a20",
   "metadata": {},
   "outputs": [],
   "source": [
    "# Create a tab to switch between dashboards.\n",
    "#tab = widgets.Tab(children=[burned_area_dashboard, vineyard_dashboard])\n",
    "#tab.set_title(0, \"Burned Area\")\n",
    "#tab.set_title(1, \"Vineyard Disease\")\n",
    "\n",
    "#display(tab)"
   ]
  },
  {
   "cell_type": "code",
   "execution_count": null,
   "id": "268c4eef",
   "metadata": {
    "vscode": {
     "languageId": "ruby"
    }
   },
   "outputs": [],
   "source": [
    "from SatelliteDataManager.gui.common_gui import inject_css, build_sensor_parameters_container, save_last_session, load_last_session\n",
    "from SatelliteDataManager.analyses.SEDM_Irrigation.evapotranspiration_dashboard import build_evapotranspiration_dashboard\n",
    "from SatelliteDataManager.analyses.SEDM_Irrigation.satellite.et_dashboard import build_et_dashboard\n",
    "from SatelliteDataManager.analyses.SEDM_Irrigation.evapotranspiration_dashboard import build_evapotranspiration_dashboard\n",
    "from SatelliteDataManager.analyses.SEDM_Irrigation.satellite.et_dashboard import build_et_dashboard\n",
    "\n",
    "\n",
    "\n",
    "\n",
    "# Build and display the evapotranspiration dashboard\n",
    "evap_dashboard = build_evapotranspiration_dashboard()\n",
    "dashboard = build_et_dashboard()\n",
    "\n",
    "tab = widgets.Tab(children=[burned_area_dashboard, vineyard_dashboard, evap_dashboard, dashboard])\n",
    "tab.set_title(0, \"Burned Area\")\n",
    "tab.set_title(1, \"Vineyard Disease\")\n",
    "tab.set_title(2, \"EV-Sensor\")\n",
    "tab.set_title(3, \"EV-Satellite\")\n",
    "\n",
    "display(tab)"
   ]
  },
  {
   "cell_type": "code",
   "execution_count": null,
   "id": "dadcf612",
   "metadata": {},
   "outputs": [],
   "source": [
    "pip install openpyxl"
   ]
  },
  {
   "cell_type": "code",
   "execution_count": null,
   "id": "18c26666",
   "metadata": {},
   "outputs": [],
   "source": []
  }
 ],
 "metadata": {
  "kernelspec": {
   "display_name": "Python 3",
   "language": "python",
   "name": "python3"
  },
  "language_info": {
   "codemirror_mode": {
    "name": "ipython",
    "version": 3
   },
   "file_extension": ".py",
   "mimetype": "text/x-python",
   "name": "python",
   "nbconvert_exporter": "python",
   "pygments_lexer": "ipython3",
   "version": "3.10.12"
  }
 },
 "nbformat": 4,
 "nbformat_minor": 5
}
