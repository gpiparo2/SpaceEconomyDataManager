{
 "cells": [
  {
   "cell_type": "markdown",
   "metadata": {},
   "source": [
    "# Test Download GUI\n",
    "\n",
    "This notebook is designed to test the interactive GUI components for dataset building. It includes the dashboards for both burned area and vineyard datasets. Use the sections below to interact with the dashboards and configure all available options.\n",
    "## Instructions\n",
    "\n",
    "1. **Sentinel Hub Authentication:** Use the authentication section to enter your Sentinel Hub credentials and profile name.\n",
    "2. **Load Last Session:** If you have previously saved session parameters, click the 'Load Last Session' button to pre-fill the fields.\n",
    "3. **Dataset Parameters:** Fill in the required fields for dataset configuration (such as activation info paths, folder paths, sensor selection, and additional options).\n",
    "4. **Build Dataset:** Click the 'Build Dataset' button to trigger the dataset building process.\n",
    "5. **Visualize TFRecord:** Once a TFRecord is generated, select it from the dropdown and click 'Visualize TFRecord' to inspect its contents.\n",
    "\n",
    "These dashboards allow you to interactively configure and execute the dataset creation workflows."
   ]
  },
  {
   "cell_type": "code",
   "execution_count": 1,
   "id": "8b92e52b",
   "metadata": {},
   "outputs": [
    {
     "name": "stderr",
     "output_type": "stream",
     "text": [
      "2025-04-09 15:06:46.173097: I tensorflow/core/util/port.cc:153] oneDNN custom operations are on. You may see slightly different numerical results due to floating-point round-off errors from different computation orders. To turn them off, set the environment variable `TF_ENABLE_ONEDNN_OPTS=0`.\n",
      "2025-04-09 15:06:46.173816: I external/local_xla/xla/tsl/cuda/cudart_stub.cc:32] Could not find cuda drivers on your machine, GPU will not be used.\n",
      "2025-04-09 15:06:46.176583: I external/local_xla/xla/tsl/cuda/cudart_stub.cc:32] Could not find cuda drivers on your machine, GPU will not be used.\n",
      "2025-04-09 15:06:46.185159: E external/local_xla/xla/stream_executor/cuda/cuda_fft.cc:467] Unable to register cuFFT factory: Attempting to register factory for plugin cuFFT when one has already been registered\n",
      "WARNING: All log messages before absl::InitializeLog() is called are written to STDERR\n",
      "E0000 00:00:1744204006.198531 4038752 cuda_dnn.cc:8579] Unable to register cuDNN factory: Attempting to register factory for plugin cuDNN when one has already been registered\n",
      "E0000 00:00:1744204006.203094 4038752 cuda_blas.cc:1407] Unable to register cuBLAS factory: Attempting to register factory for plugin cuBLAS when one has already been registered\n",
      "W0000 00:00:1744204006.213670 4038752 computation_placer.cc:177] computation placer already registered. Please check linkage and avoid linking the same target more than once.\n",
      "W0000 00:00:1744204006.213686 4038752 computation_placer.cc:177] computation placer already registered. Please check linkage and avoid linking the same target more than once.\n",
      "W0000 00:00:1744204006.213687 4038752 computation_placer.cc:177] computation placer already registered. Please check linkage and avoid linking the same target more than once.\n",
      "W0000 00:00:1744204006.213688 4038752 computation_placer.cc:177] computation placer already registered. Please check linkage and avoid linking the same target more than once.\n",
      "2025-04-09 15:06:46.218014: I tensorflow/core/platform/cpu_feature_guard.cc:210] This TensorFlow binary is optimized to use available CPU instructions in performance-critical operations.\n",
      "To enable the following instructions: AVX2 AVX_VNNI FMA, in other operations, rebuild TensorFlow with the appropriate compiler flags.\n"
     ]
    },
    {
     "data": {
      "text/html": [
       "\n",
       "    <style>\n",
       "        .burned-area-dashboard {\n",
       "            background: linear-gradient(45deg, #FF4500, #FF8C00) !important;\n",
       "            padding: 20px;\n",
       "            border-radius: 10px;\n",
       "        }\n",
       "        .vineyard-dashboard {\n",
       "            background: linear-gradient(45deg, #50C878, #66FF66) !important;\n",
       "            padding: 20px;\n",
       "            border-radius: 10px;\n",
       "        }\n",
       "        .evapotranspiration-dashboard {\n",
       "            background: linear-gradient(45deg, #007BFF, #00BFFF) !important;\n",
       "            padding: 20px;\n",
       "            border-radius: 10px;\n",
       "        }\n",
       "        .widget-label {\n",
       "            min-width: 150px !important;\n",
       "        }\n",
       "        .dashboard-header {\n",
       "            display: flex;\n",
       "            justify-content: space-between;\n",
       "            align-items: center;\n",
       "        }\n",
       "    </style>\n",
       "    "
      ],
      "text/plain": [
       "<IPython.core.display.HTML object>"
      ]
     },
     "metadata": {},
     "output_type": "display_data"
    }
   ],
   "source": [
    "# Import the necessary functions from the common GUI module and the burned area dashboard\n",
    "from SatelliteDataManager.gui.common_gui import inject_css, build_sensor_parameters_container, save_last_session, load_last_session\n",
    "from SatelliteDataManager.gui.common_gui import inject_css, build_sensor_parameters_container, save_last_session, load_last_session\n",
    "from SatelliteDataManager.analyses.SEDM_Irrigation.evapotranspiration_dashboard import build_evapotranspiration_dashboard\n",
    "from SatelliteDataManager.analyses.SEDM_Irrigation.satellite.et_dashboard import build_et_dashboard\n",
    "from SatelliteDataManager.analyses.SEDM_Irrigation.evapotranspiration_dashboard import build_evapotranspiration_dashboard\n",
    "from SatelliteDataManager.analyses.SEDM_Irrigation.satellite.et_dashboard import build_et_dashboard\n",
    "import ipywidgets as widgets\n",
    "inject_css()"
   ]
  },
  {
   "cell_type": "code",
   "execution_count": null,
   "id": "268c4eef",
   "metadata": {
    "vscode": {
     "languageId": "ruby"
    }
   },
   "outputs": [
    {
     "data": {
      "text/html": [
       "\n",
       "    <style>\n",
       "        .burned-area-dashboard {\n",
       "            background: linear-gradient(45deg, #FF4500, #FF8C00) !important;\n",
       "            padding: 20px;\n",
       "            border-radius: 10px;\n",
       "        }\n",
       "        .vineyard-dashboard {\n",
       "            background: linear-gradient(45deg, #50C878, #66FF66) !important;\n",
       "            padding: 20px;\n",
       "            border-radius: 10px;\n",
       "        }\n",
       "        .evapotranspiration-dashboard {\n",
       "            background: linear-gradient(45deg, #007BFF, #00BFFF) !important;\n",
       "            padding: 20px;\n",
       "            border-radius: 10px;\n",
       "        }\n",
       "        .widget-label {\n",
       "            min-width: 150px !important;\n",
       "        }\n",
       "        .dashboard-header {\n",
       "            display: flex;\n",
       "            justify-content: space-between;\n",
       "            align-items: center;\n",
       "        }\n",
       "    </style>\n",
       "    "
      ],
      "text/plain": [
       "<IPython.core.display.HTML object>"
      ]
     },
     "metadata": {},
     "output_type": "display_data"
    },
    {
     "data": {
      "text/html": [
       "\n",
       "    <style>\n",
       "        .burned-area-dashboard {\n",
       "            background: linear-gradient(45deg, #FF4500, #FF8C00) !important;\n",
       "            padding: 20px;\n",
       "            border-radius: 10px;\n",
       "        }\n",
       "        .vineyard-dashboard {\n",
       "            background: linear-gradient(45deg, #50C878, #66FF66) !important;\n",
       "            padding: 20px;\n",
       "            border-radius: 10px;\n",
       "        }\n",
       "        .evapotranspiration-dashboard {\n",
       "            background: linear-gradient(45deg, #007BFF, #00BFFF) !important;\n",
       "            padding: 20px;\n",
       "            border-radius: 10px;\n",
       "        }\n",
       "        .widget-label {\n",
       "            min-width: 150px !important;\n",
       "        }\n",
       "        .dashboard-header {\n",
       "            display: flex;\n",
       "            justify-content: space-between;\n",
       "            align-items: center;\n",
       "        }\n",
       "    </style>\n",
       "    "
      ],
      "text/plain": [
       "<IPython.core.display.HTML object>"
      ]
     },
     "metadata": {},
     "output_type": "display_data"
    },
    {
     "data": {
      "application/vnd.jupyter.widget-view+json": {
       "model_id": "d20a217d570e4ed19baa53c05fdb9551",
       "version_major": 2,
       "version_minor": 0
      },
      "text/plain": [
       "Tab(children=(VBox(children=(Text(value='sensor_data', description='Sensor Data Folder:', layout=Layout(width=…"
      ]
     },
     "metadata": {},
     "output_type": "display_data"
    }
   ],
   "source": [
    "# Build and display the evapotranspiration dashboard\n",
    "evap_dashboard = build_evapotranspiration_dashboard()\n",
    "dashboard = build_et_dashboard()\n",
    "\n",
    "tab = widgets.Tab(children=[evap_dashboard, dashboard])\n",
    "tab.set_title(0, \"EV-Sensor\")\n",
    "tab.set_title(1, \"EV-Satellite\")\n",
    "\n",
    "display(tab)"
   ]
  }
 ],
 "metadata": {
  "kernelspec": {
   "display_name": "Python 3",
   "language": "python",
   "name": "python3"
  },
  "language_info": {
   "codemirror_mode": {
    "name": "ipython",
    "version": 3
   },
   "file_extension": ".py",
   "mimetype": "text/x-python",
   "name": "python",
   "nbconvert_exporter": "python",
   "pygments_lexer": "ipython3",
   "version": "3.10.12"
  }
 },
 "nbformat": 4,
 "nbformat_minor": 5
}
